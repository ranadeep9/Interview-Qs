{
 "cells": [
  {
   "cell_type": "markdown",
   "metadata": {
    "id": "Xye2p09L1iT0"
   },
   "source": [
    "1. What is python, what are the benefits of using python ?\n",
    "2. Datatype in Python ?\n",
    "3. Difference's Between (List / Tuple / Dict ) & there Properties ?\n",
    "4. In Python what is slicing ?\n",
    "5. What is Doc String in Python ?\n",
    "6. How can you copy Object in Python  With example ?\n",
    "7. What is negative indexing in python With Example ?\n",
    "8. How can you convert a number to String ? Example .\n",
    "9. Is python case sensitive?\n",
    "10. What are functions in Python? Example Syntax ?\n",
    "11. Write a program to find distinct colours from below array [\"red\",\"blue\",\"green\",\"blue\",\"yellow\",\"red\"] \n",
    "12. Write a program to find the largest number from below array [12, 51, 23, 78, 92, 65] \n",
    "13. Write a program to find total no of vowels from below string \"You learn more from failure than from success.\" \n",
    "14. Write a program to find common characters from below strings. \"SMASH\", \"FLASH\" \n",
    "15. Write a program to check whether given string is palindrome or not.\n",
    "16. Write a program to count total number of duplicate elements from below array Ex: [22, 15, 63, 45, 15, 81, 22, 12] \n",
    "17. Write a program to find total number of elements that are exactly divisible by 10 from below array Ex: [22, 50, 80, 20, 46, 5]\n",
    "\n",
    "Suppose we have a list of integers >>> numbers = [1, 2, 3, 4, 5, 6] \n",
    "18. What do we need to do add 5 to each number? \n",
    "19. What if we want to add 5 to only the second to the fifth number? \n",
    "20. What if we want to add 5 to numbers with an even-numbered offsets?\n",
    "21. How do we take the sentence“Python is a great text processing language” and print one word on each line?\n"
   ]
  }
 ],
 "metadata": {
  "colab": {
   "name": "1q.s - Vineetha.ipynb",
   "provenance": []
  },
  "kernelspec": {
   "display_name": "Python 3",
   "language": "python",
   "name": "python3"
  },
  "language_info": {
   "codemirror_mode": {
    "name": "ipython",
    "version": 3
   },
   "file_extension": ".py",
   "mimetype": "text/x-python",
   "name": "python",
   "nbconvert_exporter": "python",
   "pygments_lexer": "ipython3",
   "version": "3.7.4"
  }
 },
 "nbformat": 4,
 "nbformat_minor": 1
}
