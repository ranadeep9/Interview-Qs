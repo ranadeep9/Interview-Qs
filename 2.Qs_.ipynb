{
 "cells": [
  {
   "cell_type": "markdown",
   "metadata": {
    "id": "TfdsDEHYL-fh"
   },
   "source": [
    "1. What Is Data ?\n",
    "2. What are DataTypes ?\n",
    "3. List Types of Data Generated ?\n",
    "4. Brify (Columns / Rows / Records ) BY Image ?\n",
    "5. Father of Python ?\n",
    "6. What is Database ?\n",
    "7. Difference Between ( Interactive Shell &amp; Script Mode) ?\n",
    "8. How to Concate Or Combine String ?\n",
    "9. How to use (append / add / delete / indexing /inserting ) In List &amp; Tuple with\n",
    "Examples ?\n",
    "10. Organize List with example ?\n",
    "11. What is Loop ?\n",
    "12. Exaple few Loops\n",
    "13. What is for loop ? Brief example ?\n",
    "14. What is slicing ? Brief ?\n",
    "15. What are conditional Loops ?\n",
    "16. Brief All conditional loops with Exaples ?\n",
    "17. Example (If / Break / Continue ) ?\n",
    "18. What are functions in Python ?\n",
    "19. How many types of Functions you have in python ? Syntax Plz ?\n",
    "20. What is Doc String ?\n",
    "21. What is Function Argument ?\n",
    "22. What is default argument Declaration in python ?\n",
    "23. Difference between Global / Local Variables ?\n",
    "24. Build basic Calculator ?"
   ]
  }
 ],
 "metadata": {
  "colab": {
   "collapsed_sections": [],
   "name": "2qs - Vineetha.ipynb",
   "provenance": []
  },
  "kernelspec": {
   "display_name": "Python 3",
   "language": "python",
   "name": "python3"
  },
  "language_info": {
   "codemirror_mode": {
    "name": "ipython",
    "version": 3
   },
   "file_extension": ".py",
   "mimetype": "text/x-python",
   "name": "python",
   "nbconvert_exporter": "python",
   "pygments_lexer": "ipython3",
   "version": "3.7.4"
  }
 },
 "nbformat": 4,
 "nbformat_minor": 1
}
